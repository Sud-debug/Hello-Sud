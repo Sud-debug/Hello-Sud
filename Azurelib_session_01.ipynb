{
  "nbformat": 4,
  "nbformat_minor": 0,
  "metadata": {
    "colab": {
      "provenance": [],
      "authorship_tag": "ABX9TyNztDuzR1pBkSmsHYJiio+c",
      "include_colab_link": true
    },
    "kernelspec": {
      "name": "python3",
      "display_name": "Python 3"
    },
    "language_info": {
      "name": "python"
    }
  },
  "cells": [
    {
      "cell_type": "markdown",
      "metadata": {
        "id": "view-in-github",
        "colab_type": "text"
      },
      "source": [
        "<a href=\"https://colab.research.google.com/github/Sud-debug/Hello-Sud/blob/main/Azurelib_session_01.ipynb\" target=\"_parent\"><img src=\"https://colab.research.google.com/assets/colab-badge.svg\" alt=\"Open In Colab\"/></a>"
      ]
    },
    {
      "cell_type": "code",
      "execution_count": 3,
      "metadata": {
        "colab": {
          "base_uri": "https://localhost:8080/"
        },
        "id": "-CoXUsq2RZLc",
        "outputId": "95391205-fc9b-4d0a-9c09-6ac847abbe43"
      },
      "outputs": [
        {
          "output_type": "stream",
          "name": "stdout",
          "text": [
            "myname is Sudhanshu\n"
          ]
        }
      ],
      "source": [
        "print(\"myname is Sudhanshu\")"
      ]
    },
    {
      "cell_type": "code",
      "source": [
        "laptop = 20000\n",
        "mobile=10000\n",
        "washingmachin=150000\n",
        "laptop = 20000\n",
        "mobile=10000\n",
        "washingmachin=150000\n",
        "\n",
        "total_bill=laptop+mobile+washingmachin\n",
        "print(\"total bill is \", total_bill)\n",
        "dicounted_price=total_bill*0.15\n",
        "print(dicounted_price)\n",
        "discounted_price_laptop=laptop*0.15\n",
        "print(discounted_price_laptop)\n",
        "discounted_price_mobile=mobile*0.15\n",
        "print(discounted_price_mobile)\n",
        "discounted_price_washingmachin=washingmachin*0.15\n",
        "print(discounted_price_washingmachin)\n",
        "discounted_price_laptop=laptop*0.15\n",
        "print(discounted_price_laptop)\n",
        "discounted_price_mobile=mobile*0.15\n",
        "print(discounted_price_mobile)\n",
        "discounted_price_washingmachin=washingmachin*0.15\n",
        "print(discounted_price_washingmachin)"
      ],
      "metadata": {
        "colab": {
          "base_uri": "https://localhost:8080/"
        },
        "id": "epjp-9yjS4ha",
        "outputId": "0f7585e5-a0fe-4ece-9386-e59f4e5af2bc"
      },
      "execution_count": 10,
      "outputs": [
        {
          "output_type": "stream",
          "name": "stdout",
          "text": [
            "total bill is  180000\n",
            "27000.0\n",
            "3000.0\n",
            "1500.0\n",
            "22500.0\n",
            "3000.0\n",
            "1500.0\n",
            "22500.0\n"
          ]
        }
      ]
    },
    {
      "cell_type": "code",
      "source": [
        "pak_total_score=350\n",
        "ind_so_far=100\n",
        "print(\"ind has to make more\", pak_total_score-ind_so_far)"
      ],
      "metadata": {
        "colab": {
          "base_uri": "https://localhost:8080/"
        },
        "id": "GdB-G0_EazW6",
        "outputId": "ea83d25a-12e3-426c-aef7-c3c7e554019b"
      },
      "execution_count": 11,
      "outputs": [
        {
          "output_type": "stream",
          "name": "stdout",
          "text": [
            "ind has to make more 250\n"
          ]
        }
      ]
    },
    {
      "cell_type": "markdown",
      "source": [
        "take the score of 3 subjects - maths - sci, eng\n",
        "check if student got above 60% then he is passed else fail"
      ],
      "metadata": {
        "id": "HimqSvGQf9wE"
      }
    },
    {
      "cell_type": "code",
      "source": [
        "maths=67\n",
        "eng=70\n",
        "sci=54\n",
        "\n",
        "print(\"total marks obtained\" , maths+eng+sci)\n",
        "percentage = (maths+eng+sci)/300*100\n",
        "print(percentage)\n",
        "if (maths+eng+sci)/300*100>60:\n",
        "    print(\"passed\")\n",
        "else:\n",
        "    print(\"failed\")"
      ],
      "metadata": {
        "colab": {
          "base_uri": "https://localhost:8080/"
        },
        "id": "8wYPGVVBgKTZ",
        "outputId": "5227dafc-618f-4b14-cb1a-8301fdff5ceb"
      },
      "execution_count": 20,
      "outputs": [
        {
          "output_type": "stream",
          "name": "stdout",
          "text": [
            "total marks obtained 191\n",
            "63.66666666666667\n",
            "passed\n"
          ]
        }
      ]
    },
    {
      "cell_type": "markdown",
      "source": [
        "take input from user: my pasword is Azurelib. Ask your to enter password, if password match allow login , else login failed\n"
      ],
      "metadata": {
        "id": "oUYPHqkyhxlY"
      }
    },
    {
      "cell_type": "code",
      "source": [
        "real_password='Azurelib'\n",
        "password=input(\"enter your password\")\n",
        "if real_password==password:\n",
        "    print(\"login success\")\n",
        "else:\n",
        "    print(\"login failed\")"
      ],
      "metadata": {
        "id": "tfkUewq6iCYc"
      },
      "execution_count": null,
      "outputs": []
    },
    {
      "cell_type": "markdown",
      "source": [
        "Hi This is my first program"
      ],
      "metadata": {
        "id": "-FnfDpdCSz1L"
      }
    }
  ]
}